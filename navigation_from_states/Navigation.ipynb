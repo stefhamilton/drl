{
 "cells": [
  {
   "cell_type": "markdown",
   "metadata": {},
   "source": [
    "# Navigation\n",
    "\n",
    "---\n",
    "\n",
    "You are welcome to use this coding environment to train your agent for the project.  Follow the instructions below to get started!\n",
    "\n",
    "### 1. Start the Environment\n",
    "\n",
    "Run the next code cell to install a few packages.  This line will take a few minutes to run!"
   ]
  },
  {
   "cell_type": "code",
   "execution_count": 6,
   "metadata": {},
   "outputs": [],
   "source": [
    "!pip -q install ./python"
   ]
  },
  {
   "cell_type": "code",
   "execution_count": 7,
   "metadata": {},
   "outputs": [
    {
     "name": "stdout",
     "output_type": "stream",
     "text": [
      "Requirement already satisfied: unityagents in /opt/conda/lib/python3.6/site-packages\n",
      "Requirement already satisfied: tensorflow==1.7.1 in /opt/conda/lib/python3.6/site-packages (from unityagents)\n",
      "Requirement already satisfied: Pillow>=4.2.1 in /opt/conda/lib/python3.6/site-packages (from unityagents)\n",
      "Requirement already satisfied: matplotlib in /opt/conda/lib/python3.6/site-packages (from unityagents)\n",
      "Requirement already satisfied: numpy>=1.11.0 in /opt/conda/lib/python3.6/site-packages (from unityagents)\n",
      "Requirement already satisfied: jupyter in /opt/conda/lib/python3.6/site-packages (from unityagents)\n",
      "Requirement already satisfied: pytest>=3.2.2 in /opt/conda/lib/python3.6/site-packages (from unityagents)\n",
      "Requirement already satisfied: docopt in /opt/conda/lib/python3.6/site-packages (from unityagents)\n",
      "Requirement already satisfied: pyyaml in /opt/conda/lib/python3.6/site-packages (from unityagents)\n",
      "Requirement already satisfied: protobuf==3.5.2 in /opt/conda/lib/python3.6/site-packages (from unityagents)\n",
      "Requirement already satisfied: grpcio==1.11.0 in /opt/conda/lib/python3.6/site-packages (from unityagents)\n",
      "Requirement already satisfied: torch==0.4.0 in /opt/conda/lib/python3.6/site-packages (from unityagents)\n",
      "Requirement already satisfied: pandas in /opt/conda/lib/python3.6/site-packages (from unityagents)\n",
      "Requirement already satisfied: scipy in /opt/conda/lib/python3.6/site-packages (from unityagents)\n",
      "Requirement already satisfied: ipykernel in /opt/conda/lib/python3.6/site-packages (from unityagents)\n",
      "Requirement already satisfied: absl-py>=0.1.6 in /opt/conda/lib/python3.6/site-packages (from tensorflow==1.7.1->unityagents)\n",
      "Requirement already satisfied: six>=1.10.0 in /opt/conda/lib/python3.6/site-packages (from tensorflow==1.7.1->unityagents)\n",
      "Requirement already satisfied: astor>=0.6.0 in /opt/conda/lib/python3.6/site-packages (from tensorflow==1.7.1->unityagents)\n",
      "Requirement already satisfied: termcolor>=1.1.0 in /opt/conda/lib/python3.6/site-packages (from tensorflow==1.7.1->unityagents)\n",
      "Requirement already satisfied: tensorboard<1.8.0,>=1.7.0 in /opt/conda/lib/python3.6/site-packages (from tensorflow==1.7.1->unityagents)\n",
      "Requirement already satisfied: wheel>=0.26 in /opt/conda/lib/python3.6/site-packages (from tensorflow==1.7.1->unityagents)\n",
      "Requirement already satisfied: gast>=0.2.0 in /opt/conda/lib/python3.6/site-packages (from tensorflow==1.7.1->unityagents)\n",
      "Requirement already satisfied: olefile in /opt/conda/lib/python3.6/site-packages (from Pillow>=4.2.1->unityagents)\n",
      "Requirement already satisfied: python-dateutil>=2.0 in /opt/conda/lib/python3.6/site-packages (from matplotlib->unityagents)\n",
      "Requirement already satisfied: pytz in /opt/conda/lib/python3.6/site-packages (from matplotlib->unityagents)\n",
      "Requirement already satisfied: cycler>=0.10 in /opt/conda/lib/python3.6/site-packages/cycler-0.10.0-py3.6.egg (from matplotlib->unityagents)\n",
      "Requirement already satisfied: pyparsing!=2.0.4,!=2.1.2,!=2.1.6,>=2.0.1 in /opt/conda/lib/python3.6/site-packages (from matplotlib->unityagents)\n",
      "Requirement already satisfied: qtconsole in /opt/conda/lib/python3.6/site-packages (from jupyter->unityagents)\n",
      "Requirement already satisfied: ipywidgets in /opt/conda/lib/python3.6/site-packages (from jupyter->unityagents)\n",
      "Requirement already satisfied: jupyter-console in /opt/conda/lib/python3.6/site-packages (from jupyter->unityagents)\n",
      "Requirement already satisfied: notebook in /opt/conda/lib/python3.6/site-packages (from jupyter->unityagents)\n",
      "Requirement already satisfied: nbconvert in /opt/conda/lib/python3.6/site-packages (from jupyter->unityagents)\n",
      "Requirement already satisfied: more-itertools>=4.0.0 in /opt/conda/lib/python3.6/site-packages (from pytest>=3.2.2->unityagents)\n",
      "Requirement already satisfied: py>=1.5.0 in /opt/conda/lib/python3.6/site-packages (from pytest>=3.2.2->unityagents)\n",
      "Requirement already satisfied: attrs>=17.4.0 in /opt/conda/lib/python3.6/site-packages (from pytest>=3.2.2->unityagents)\n",
      "Requirement already satisfied: setuptools in /opt/conda/lib/python3.6/site-packages (from pytest>=3.2.2->unityagents)\n",
      "Requirement already satisfied: atomicwrites>=1.0 in /opt/conda/lib/python3.6/site-packages (from pytest>=3.2.2->unityagents)\n",
      "Requirement already satisfied: pluggy>=0.7 in /opt/conda/lib/python3.6/site-packages (from pytest>=3.2.2->unityagents)\n",
      "Requirement already satisfied: ipython>=4.0.0 in /opt/conda/lib/python3.6/site-packages (from ipykernel->unityagents)\n",
      "Requirement already satisfied: traitlets>=4.1.0 in /opt/conda/lib/python3.6/site-packages (from ipykernel->unityagents)\n",
      "Requirement already satisfied: jupyter_client in /opt/conda/lib/python3.6/site-packages (from ipykernel->unityagents)\n",
      "Requirement already satisfied: tornado>=4.0 in /opt/conda/lib/python3.6/site-packages (from ipykernel->unityagents)\n",
      "Requirement already satisfied: markdown>=2.6.8 in /opt/conda/lib/python3.6/site-packages (from tensorboard<1.8.0,>=1.7.0->tensorflow==1.7.1->unityagents)\n",
      "Requirement already satisfied: html5lib==0.9999999 in /opt/conda/lib/python3.6/site-packages (from tensorboard<1.8.0,>=1.7.0->tensorflow==1.7.1->unityagents)\n",
      "Requirement already satisfied: werkzeug>=0.11.10 in /opt/conda/lib/python3.6/site-packages (from tensorboard<1.8.0,>=1.7.0->tensorflow==1.7.1->unityagents)\n",
      "Requirement already satisfied: bleach==1.5.0 in /opt/conda/lib/python3.6/site-packages (from tensorboard<1.8.0,>=1.7.0->tensorflow==1.7.1->unityagents)\n",
      "Requirement already satisfied: pygments in /opt/conda/lib/python3.6/site-packages (from qtconsole->jupyter->unityagents)\n",
      "Requirement already satisfied: jupyter-core in /opt/conda/lib/python3.6/site-packages (from qtconsole->jupyter->unityagents)\n",
      "Requirement already satisfied: ipython-genutils in /opt/conda/lib/python3.6/site-packages (from qtconsole->jupyter->unityagents)\n",
      "Requirement already satisfied: nbformat>=4.2.0 in /opt/conda/lib/python3.6/site-packages (from ipywidgets->jupyter->unityagents)\n",
      "Requirement already satisfied: widgetsnbextension~=3.0.0 in /opt/conda/lib/python3.6/site-packages (from ipywidgets->jupyter->unityagents)\n",
      "Requirement already satisfied: prompt-toolkit<2.1.0,>=2.0.0 in /opt/conda/lib/python3.6/site-packages (from jupyter-console->jupyter->unityagents)\n",
      "Requirement already satisfied: jinja2 in /opt/conda/lib/python3.6/site-packages (from notebook->jupyter->unityagents)\n",
      "Requirement already satisfied: pyzmq>=17 in /opt/conda/lib/python3.6/site-packages (from notebook->jupyter->unityagents)\n",
      "Requirement already satisfied: Send2Trash in /opt/conda/lib/python3.6/site-packages (from notebook->jupyter->unityagents)\n",
      "Requirement already satisfied: terminado>=0.8.1 in /opt/conda/lib/python3.6/site-packages (from notebook->jupyter->unityagents)\n",
      "Requirement already satisfied: prometheus_client in /opt/conda/lib/python3.6/site-packages (from notebook->jupyter->unityagents)\n",
      "Requirement already satisfied: mistune>=0.8.1 in /opt/conda/lib/python3.6/site-packages (from nbconvert->jupyter->unityagents)\n",
      "Requirement already satisfied: entrypoints>=0.2.2 in /opt/conda/lib/python3.6/site-packages (from nbconvert->jupyter->unityagents)\n",
      "Requirement already satisfied: pandocfilters>=1.4.1 in /opt/conda/lib/python3.6/site-packages (from nbconvert->jupyter->unityagents)\n",
      "Requirement already satisfied: testpath in /opt/conda/lib/python3.6/site-packages (from nbconvert->jupyter->unityagents)\n",
      "Requirement already satisfied: defusedxml in /opt/conda/lib/python3.6/site-packages/defusedxml-0.5.0-py3.6.egg (from nbconvert->jupyter->unityagents)\n",
      "Requirement already satisfied: pickleshare in /opt/conda/lib/python3.6/site-packages (from ipython>=4.0.0->ipykernel->unityagents)\n",
      "Requirement already satisfied: simplegeneric>0.8 in /opt/conda/lib/python3.6/site-packages (from ipython>=4.0.0->ipykernel->unityagents)\n",
      "Requirement already satisfied: jedi>=0.10 in /opt/conda/lib/python3.6/site-packages (from ipython>=4.0.0->ipykernel->unityagents)\n",
      "Requirement already satisfied: pexpect; sys_platform != \"win32\" in /opt/conda/lib/python3.6/site-packages (from ipython>=4.0.0->ipykernel->unityagents)\n",
      "Requirement already satisfied: decorator in /opt/conda/lib/python3.6/site-packages (from ipython>=4.0.0->ipykernel->unityagents)\n",
      "Requirement already satisfied: backcall in /opt/conda/lib/python3.6/site-packages (from ipython>=4.0.0->ipykernel->unityagents)\n",
      "Requirement already satisfied: jsonschema!=2.5.0,>=2.4 in /opt/conda/lib/python3.6/site-packages (from nbformat>=4.2.0->ipywidgets->jupyter->unityagents)\n",
      "Requirement already satisfied: wcwidth in /opt/conda/lib/python3.6/site-packages (from prompt-toolkit<2.1.0,>=2.0.0->jupyter-console->jupyter->unityagents)\n",
      "Requirement already satisfied: MarkupSafe>=0.23 in /opt/conda/lib/python3.6/site-packages (from jinja2->notebook->jupyter->unityagents)\n",
      "Requirement already satisfied: ptyprocess>=0.5 in /opt/conda/lib/python3.6/site-packages (from pexpect; sys_platform != \"win32\"->ipython>=4.0.0->ipykernel->unityagents)\n"
     ]
    },
    {
     "name": "stdout",
     "output_type": "stream",
     "text": [
      "\u001b[33mYou are using pip version 9.0.1, however version 18.1 is available.\r\n",
      "You should consider upgrading via the 'pip install --upgrade pip' command.\u001b[0m\r\n"
     ]
    }
   ],
   "source": [
    "!pip install unityagents"
   ]
  },
  {
   "cell_type": "markdown",
   "metadata": {},
   "source": [
    "The environment is already saved in the Workspace and can be accessed at the file path provided below.  Please run the next code cell without making any changes."
   ]
  },
  {
   "cell_type": "code",
   "execution_count": 8,
   "metadata": {},
   "outputs": [
    {
     "name": "stderr",
     "output_type": "stream",
     "text": [
      "INFO:unityagents:\n",
      "'Academy' started successfully!\n",
      "Unity Academy name: Academy\n",
      "        Number of Brains: 1\n",
      "        Number of External Brains : 1\n",
      "        Lesson number : 0\n",
      "        Reset Parameters :\n",
      "\t\t\n",
      "Unity brain name: BananaBrain\n",
      "        Number of Visual Observations (per agent): 0\n",
      "        Vector Observation space type: continuous\n",
      "        Vector Observation space size (per agent): 37\n",
      "        Number of stacked Vector Observation: 1\n",
      "        Vector Action space type: discrete\n",
      "        Vector Action space size (per agent): 4\n",
      "        Vector Action descriptions: , , , \n"
     ]
    }
   ],
   "source": [
    "from unityagents import UnityEnvironment\n",
    "import numpy as np\n",
    "\n",
    "# please do not modify the line below\n",
    "env = UnityEnvironment(file_name=\"/data/Banana_Linux_NoVis/Banana.x86_64\")"
   ]
  },
  {
   "cell_type": "markdown",
   "metadata": {},
   "source": [
    "Environments contain **_brains_** which are responsible for deciding the actions of their associated agents. Here we check for the first brain available, and set it as the default brain we will be controlling from Python."
   ]
  },
  {
   "cell_type": "code",
   "execution_count": 9,
   "metadata": {},
   "outputs": [],
   "source": [
    "# get the default brain\n",
    "brain_name = env.brain_names[0]\n",
    "brain = env.brains[brain_name]"
   ]
  },
  {
   "cell_type": "markdown",
   "metadata": {},
   "source": [
    "### 2. Examine the State and Action Spaces\n",
    "\n",
    "Run the code cell below to print some information about the environment."
   ]
  },
  {
   "cell_type": "code",
   "execution_count": 10,
   "metadata": {},
   "outputs": [
    {
     "name": "stdout",
     "output_type": "stream",
     "text": [
      "Number of agents: 1\n",
      "Number of actions: 4\n",
      "States look like:\n",
      "[ 1.          0.          0.          0.          0.84408134  0.          0.\n",
      "  1.          0.          0.0748472   0.          1.          0.          0.\n",
      "  0.25755     1.          0.          0.          0.          0.74177343\n",
      "  0.          1.          0.          0.          0.25854847  0.          0.\n",
      "  1.          0.          0.09355672  0.          1.          0.          0.\n",
      "  0.31969345  0.          0.        ]\n",
      "States have length: 37\n"
     ]
    }
   ],
   "source": [
    "# reset the environment\n",
    "env_info = env.reset(train_mode=True)[brain_name]\n",
    "\n",
    "# number of agents in the environment\n",
    "print('Number of agents:', len(env_info.agents))\n",
    "\n",
    "# number of actions\n",
    "action_size = brain.vector_action_space_size\n",
    "print('Number of actions:', action_size)\n",
    "\n",
    "# examine the state space \n",
    "state = env_info.vector_observations[0]\n",
    "print('States look like:', state, sep=\"\\n\")\n",
    "state_size = len(state)\n",
    "print('States have length:', state_size)"
   ]
  },
  {
   "cell_type": "markdown",
   "metadata": {},
   "source": [
    "### 3. Take Random Actions in the Environment\n",
    "\n",
    "In the next code cell, you will learn how to use the Python API to control the agent and receive feedback from the environment.\n",
    "\n",
    "Note that **in this coding environment, you will not be able to watch the agent while it is training**, and you should set `train_mode=True` to restart the environment."
   ]
  },
  {
   "cell_type": "code",
   "execution_count": 11,
   "metadata": {},
   "outputs": [
    {
     "name": "stdout",
     "output_type": "stream",
     "text": [
      "Score: 0.0\n"
     ]
    }
   ],
   "source": [
    "env_info = env.reset(train_mode=True)[brain_name] # reset the environment\n",
    "state = env_info.vector_observations[0]            # get the current state\n",
    "score = 0                                          # initialize the score\n",
    "while True:\n",
    "    action = np.random.randint(action_size)        # select an action\n",
    "    env_info = env.step(action)[brain_name]        # send the action to the environment\n",
    "    next_state = env_info.vector_observations[0]   # get the next state\n",
    "    reward = env_info.rewards[0]                   # get the reward\n",
    "    done = env_info.local_done[0]                  # see if episode has finished\n",
    "    score += reward                                # update the score\n",
    "    np.set_printoptions(precision=2)\n",
    "    if reward != 0:\n",
    "        print(\"Action {}, Reward {}, \\nState change \\n{}, \\nLast state \\n{}\".format(\n",
    "            action, reward, next_state - state, state))\n",
    "    state = next_state                             # roll over the state to next time step        \n",
    "    if done:                                       # exit loop if episode finished\n",
    "        break\n",
    "    \n",
    "print(\"Score: {}\".format(score))"
   ]
  },
  {
   "cell_type": "markdown",
   "metadata": {},
   "source": [
    "# Create or load agent"
   ]
  },
  {
   "cell_type": "code",
   "execution_count": 12,
   "metadata": {},
   "outputs": [],
   "source": [
    "import torch\n",
    "from dqn_agent import Agent\n",
    "checkpoint_name = \"checkpoint.pth\"\n",
    "\n",
    "agent = Agent(state_size=37, action_size=4, seed=0)\n",
    "# load the weights from file\n",
    "#agent.qnetwork_local.load_state_dict(torch.load(checkpoint_name))\n",
    "env_info = env.reset(train_mode=True)[brain_name]\n",
    "state = env_info.vector_observations[0]  "
   ]
  },
  {
   "cell_type": "code",
   "execution_count": 16,
   "metadata": {},
   "outputs": [],
   "source": [
    "from collections import deque\n",
    "def dqn(n_episodes=500, max_t=300, eps_start=1.0, eps_end=0.01, eps_decay=0.995):\n",
    "    \"\"\"Deep Q-Learning.\n",
    "    \n",
    "    Params\n",
    "    ======\n",
    "        n_episodes (int): maximum number of training episodes\n",
    "        max_t (int): maximum number of timesteps per episode\n",
    "        eps_start (float): starting value of epsilon, for epsilon-greedy action selection\n",
    "        eps_end (float): minimum value of epsilon\n",
    "        eps_decay (float): multiplicative factor (per episode) for decreasing epsilon\n",
    "    \"\"\"\n",
    "    scores = []                        # list containing scores from each episode\n",
    "    scores_window = deque(maxlen=100)  # last 100 scores\n",
    "    rewards_window = deque(maxlen=1000)# This is for debug and lets one get a better idea of optimality\n",
    "    actions_window = deque(maxlen=1000)# This is to track what actions are happening \n",
    "    eps = eps_start                    # initialize epsilon\n",
    "    for i_episode in range(1, n_episodes+1):\n",
    "        env_info = env.reset(train_mode=True)[brain_name]\n",
    "        state = env_info.vector_observations[0]  \n",
    "        score = 0\n",
    "        #print(\"Episode \", i_episode)\n",
    "        for t in range(max_t):\n",
    "            action = agent.act(state, eps)\n",
    "            actions_window.append(action)\n",
    "            #print(\"action \", action)\n",
    "            env_info = env.step(action)[brain_name]\n",
    "            #print('env_info', str(env_info))\n",
    "            next_state = env_info.vector_observations[0]   # get the next state\n",
    "            reward = env_info.rewards[0]                   # get the reward\n",
    "            rewards_window.append(int(reward))\n",
    "            done = env_info.local_done[0]\n",
    "            agent.step(state, action, reward, next_state, done)\n",
    "            state = next_state\n",
    "            score += reward\n",
    "            if done:\n",
    "                # Done happens at t=299\n",
    "                break \n",
    "        scores_window.append(score)       # save most recent score\n",
    "        scores.append(score)              # save most recent score\n",
    "        eps = max(eps_end, eps_decay*eps) # decrease epsilon\n",
    "        print('\\rEpisode {}\\tAverage Score: {:.2f}\\teps: {:.4f}'.format(i_episode, np.mean(scores_window), eps), end=\"\")\n",
    "        if i_episode % 20 == 0:\n",
    "            #print(\"rewards_window \", rewards_window)\n",
    "            #print(\"Rewards_window + 1 \", np.add(rewards_window, 1))\n",
    "            #print(\" bincounts \", np.bincount(np.add(rewards_window,1)))\n",
    "            # Append 0's in case only negative -1s were seen\n",
    "            rewards_bc = np.append(np.bincount(np.add(rewards_window, 1)),[0,0])\n",
    "            forward_count_percent = np.bincount(actions_window)[0]/1000.0\n",
    "            print('\\rEpisode {}\\tAverage Score: {:.2f}\\teps: {:.4f}\\tBlues:{}\\tNone:{}\\tYellows:{}\\tforward frames:{}'\n",
    "                  .format(i_episode, np.mean(scores_window), eps, rewards_bc[0],rewards_bc[1], rewards_bc[2], forward_count_percent))\n",
    "            torch.save(agent.qnetwork_local.state_dict(), 'checkpoint.pth')\n",
    "    return scores"
   ]
  },
  {
   "cell_type": "code",
   "execution_count": 17,
   "metadata": {},
   "outputs": [
    {
     "name": "stdout",
     "output_type": "stream",
     "text": [
      "Episode 20\tAverage Score: 0.40\teps: 0.9046\tBlues:2\tNone:996\tYellows:2\tforward frames:0.28\n",
      "Episode 40\tAverage Score: 0.38\teps: 0.8183\tBlues:2\tNone:998\tYellows:0\tforward frames:0.248\n",
      "Episode 60\tAverage Score: 0.75\teps: 0.7403\tBlues:1\tNone:989\tYellows:10\tforward frames:0.283\n",
      "Episode 80\tAverage Score: 1.21\teps: 0.6696\tBlues:0\tNone:994\tYellows:6\tforward frames:0.261\n",
      "Episode 100\tAverage Score: 1.66\teps: 0.6058\tBlues:1\tNone:984\tYellows:15\tforward frames:0.306\n",
      "Episode 120\tAverage Score: 2.46\teps: 0.5480\tBlues:2\tNone:975\tYellows:23\tforward frames:0.331\n",
      "Episode 140\tAverage Score: 3.12\teps: 0.4957\tBlues:1\tNone:991\tYellows:8\tforward frames:0.256\n",
      "Episode 160\tAverage Score: 4.01\teps: 0.4484\tBlues:3\tNone:969\tYellows:28\tforward frames:0.306\n",
      "Episode 180\tAverage Score: 4.92\teps: 0.4057\tBlues:1\tNone:977\tYellows:22\tforward frames:0.413\n",
      "Episode 200\tAverage Score: 5.65\teps: 0.3670\tBlues:0\tNone:981\tYellows:19\tforward frames:0.32\n",
      "Episode 220\tAverage Score: 6.61\teps: 0.3320\tBlues:1\tNone:962\tYellows:37\tforward frames:0.51\n",
      "Episode 240\tAverage Score: 7.51\teps: 0.3003\tBlues:0\tNone:978\tYellows:22\tforward frames:0.351\n",
      "Episode 260\tAverage Score: 7.79\teps: 0.2716\tBlues:1\tNone:977\tYellows:22\tforward frames:0.333\n",
      "Episode 280\tAverage Score: 8.14\teps: 0.2457\tBlues:1\tNone:963\tYellows:36\tforward frames:0.458\n",
      "Episode 300\tAverage Score: 8.78\teps: 0.2223\tBlues:0\tNone:965\tYellows:35\tforward frames:0.514\n",
      "Episode 320\tAverage Score: 9.11\teps: 0.2011\tBlues:0\tNone:964\tYellows:36\tforward frames:0.508\n",
      "Episode 340\tAverage Score: 9.70\teps: 0.1819\tBlues:0\tNone:968\tYellows:32\tforward frames:0.495\n",
      "Episode 360\tAverage Score: 10.50\teps: 0.1646\tBlues:1\tNone:954\tYellows:45\tforward frames:0.636\n",
      "Episode 380\tAverage Score: 10.87\teps: 0.1489\tBlues:0\tNone:958\tYellows:42\tforward frames:0.558\n",
      "Episode 400\tAverage Score: 11.10\teps: 0.1347\tBlues:1\tNone:963\tYellows:36\tforward frames:0.544\n",
      "Episode 420\tAverage Score: 11.47\teps: 0.1218\tBlues:0\tNone:952\tYellows:48\tforward frames:0.663\n",
      "Episode 440\tAverage Score: 12.11\teps: 0.1102\tBlues:1\tNone:949\tYellows:50\tforward frames:0.587\n",
      "Episode 460\tAverage Score: 12.67\teps: 0.0997\tBlues:2\tNone:952\tYellows:46\tforward frames:0.675\n",
      "Episode 480\tAverage Score: 13.18\teps: 0.0902\tBlues:1\tNone:958\tYellows:41\tforward frames:0.645\n",
      "Episode 500\tAverage Score: 13.70\teps: 0.0816\tBlues:0\tNone:951\tYellows:49\tforward frames:0.65\n",
      "Episode 520\tAverage Score: 13.91\teps: 0.0738\tBlues:2\tNone:953\tYellows:45\tforward frames:0.685\n",
      "Episode 540\tAverage Score: 14.21\teps: 0.0668\tBlues:2\tNone:940\tYellows:58\tforward frames:0.725\n",
      "Episode 560\tAverage Score: 14.41\teps: 0.0604\tBlues:1\tNone:947\tYellows:52\tforward frames:0.731\n",
      "Episode 580\tAverage Score: 14.70\teps: 0.0546\tBlues:1\tNone:955\tYellows:44\tforward frames:0.661\n",
      "Episode 600\tAverage Score: 14.94\teps: 0.0494\tBlues:0\tNone:943\tYellows:57\tforward frames:0.724\n",
      "Episode 620\tAverage Score: 15.25\teps: 0.0447\tBlues:1\tNone:942\tYellows:57\tforward frames:0.74\n",
      "Episode 640\tAverage Score: 15.22\teps: 0.0404\tBlues:0\tNone:954\tYellows:46\tforward frames:0.577\n",
      "Episode 660\tAverage Score: 15.44\teps: 0.0366\tBlues:0\tNone:951\tYellows:49\tforward frames:0.646\n",
      "Episode 680\tAverage Score: 15.54\teps: 0.0331\tBlues:1\tNone:954\tYellows:45\tforward frames:0.7\n",
      "Episode 700\tAverage Score: 15.05\teps: 0.0299\tBlues:0\tNone:957\tYellows:43\tforward frames:0.69\n",
      "Episode 720\tAverage Score: 14.95\teps: 0.0271\tBlues:1\tNone:948\tYellows:51\tforward frames:0.735\n",
      "Episode 740\tAverage Score: 14.98\teps: 0.0245\tBlues:2\tNone:942\tYellows:55\tforward frames:0.749\n",
      "Episode 760\tAverage Score: 14.59\teps: 0.0222\tBlues:2\tNone:947\tYellows:51\tforward frames:0.745\n",
      "Episode 780\tAverage Score: 14.64\teps: 0.0200\tBlues:1\tNone:942\tYellows:57\tforward frames:0.72\n",
      "Episode 800\tAverage Score: 15.33\teps: 0.0181\tBlues:0\tNone:941\tYellows:59\tforward frames:0.77\n",
      "Episode 820\tAverage Score: 15.21\teps: 0.0164\tBlues:0\tNone:944\tYellows:56\tforward frames:0.711\n",
      "Episode 840\tAverage Score: 14.73\teps: 0.0148\tBlues:1\tNone:954\tYellows:45\tforward frames:0.728\n",
      "Episode 860\tAverage Score: 15.14\teps: 0.0134\tBlues:2\tNone:952\tYellows:46\tforward frames:0.739\n",
      "Episode 880\tAverage Score: 15.01\teps: 0.0121\tBlues:0\tNone:950\tYellows:50\tforward frames:0.653\n",
      "Episode 900\tAverage Score: 14.98\teps: 0.0110\tBlues:0\tNone:936\tYellows:64\tforward frames:0.8\n",
      "Episode 920\tAverage Score: 15.05\teps: 0.0100\tBlues:2\tNone:971\tYellows:27\tforward frames:0.45\n",
      "Episode 940\tAverage Score: 15.60\teps: 0.0100\tBlues:0\tNone:956\tYellows:44\tforward frames:0.672\n",
      "Episode 960\tAverage Score: 15.53\teps: 0.0100\tBlues:0\tNone:942\tYellows:58\tforward frames:0.733\n",
      "Episode 980\tAverage Score: 15.66\teps: 0.0100\tBlues:0\tNone:962\tYellows:38\tforward frames:0.721\n",
      "Episode 1000\tAverage Score: 15.49\teps: 0.0100\tBlues:1\tNone:944\tYellows:55\tforward frames:0.749\n"
     ]
    }
   ],
   "source": [
    "scores = dqn(1000, 300, 1.0, eps_decay=.995)"
   ]
  },
  {
   "cell_type": "code",
   "execution_count": 19,
   "metadata": {},
   "outputs": [
    {
     "data": {
      "image/png": "[encoded data removed]",
      "text/plain": [
       "<matplotlib.figure.Figure at 0x7fea4cc0cf98>"
      ]
     },
     "metadata": {
      "needs_background": "light"
     },
     "output_type": "display_data"
    }
   ],
   "source": [
    "import matplotlib.pyplot as plt\n",
    "%matplotlib inline\n",
    "# plot the scores\n",
    "fig = plt.figure()\n",
    "ax = fig.add_subplot(111)\n",
    "plt.plot(np.arange(len(scores)), scores)\n",
    "plt.ylabel('Score')\n",
    "plt.xlabel('Episode #')\n",
    "plt.show()"
   ]
  },
  {
   "cell_type": "markdown",
   "metadata": {},
   "source": [
    "When finished, you can close the environment."
   ]
  },
  {
   "cell_type": "code",
   "execution_count": null,
   "metadata": {},
   "outputs": [],
   "source": [
    "env.close()"
   ]
  }
 ],
 "metadata": {
  "kernelspec": {
   "display_name": "Python 3",
   "language": "python",
   "name": "python3"
  },
  "language_info": {
   "codemirror_mode": {
    "name": "ipython",
    "version": 3
   },
   "file_extension": ".py",
   "mimetype": "text/x-python",
   "name": "python",
   "nbconvert_exporter": "python",
   "pygments_lexer": "ipython3",
   "version": "3.6.3"
  }
 },
 "nbformat": 4,
 "nbformat_minor": 2
}
